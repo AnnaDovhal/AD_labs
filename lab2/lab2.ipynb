{
 "cells": [
  {
   "cell_type": "markdown",
   "metadata": {},
   "source": [
    "# Лабораторна робота номер 2\n"
   ]
  },
  {
   "cell_type": "markdown",
   "metadata": {},
   "source": [
    "1. Створити env в якому будуть встановлені всі необхідні бібліотеки та\n",
    "налаштування для данної лабораторної роботи"
   ]
  },
  {
   "cell_type": "markdown",
   "metadata": {},
   "source": [
    "\n",
    "```conda\n",
    "conda create --name adenv python\n",
    "conda activate adenv\n",
    "conda install pandas\n",
    "conda install seaborn??\n",
    "```"
   ]
  },
  {
   "cell_type": "markdown",
   "metadata": {},
   "source": [
    "2. Для кожної із адміністративних одиниць України завантажити тестові\n",
    "структуровані файли, що містять значення VHI-індексу. Ця процедура\n",
    "має бути автоматизована, параметром процедури має бути індекс\n",
    "(номер) області. При зберіганні файлу до його імені потрібно додати\n",
    "дату та час завантаження;"
   ]
  },
  {
   "cell_type": "code",
   "execution_count": null,
   "metadata": {},
   "outputs": [],
   "source": []
  },
  {
   "cell_type": "markdown",
   "metadata": {},
   "source": [
    "3. Зчитати завантажені текстові файли у фрейм (детальніше про роботу\n",
    "із фреймами буде розказано у подальших лабораторних роботах).\n",
    "Імена стовбців фрейму мають бути змістовними та легкими для\n",
    "сприйняття (не повинно бути спеціалізованих символів, пробілів\n",
    "тощо). Ця задача має бути реалізована у вигляді окремої процедури,\n",
    "яка на вхід приймає шлях до директорії, в якій зберігаються файли;"
   ]
  },
  {
   "cell_type": "code",
   "execution_count": null,
   "metadata": {},
   "outputs": [],
   "source": []
  },
  {
   "cell_type": "markdown",
   "metadata": {},
   "source": [
    "4. Реалізувати процедуру, яка змінить індекси областей, які використані\n",
    "на порталі NOAA на наступні:"
   ]
  }
 ],
 "metadata": {
  "kernelspec": {
   "display_name": "Python 3.12.2 ('adenv')",
   "language": "python",
   "name": "python3"
  },
  "language_info": {
   "codemirror_mode": {
    "name": "ipython",
    "version": 3
   },
   "file_extension": ".py",
   "mimetype": "text/x-python",
   "name": "python",
   "nbconvert_exporter": "python",
   "pygments_lexer": "ipython3",
   "version": "3.12.2"
  },
  "orig_nbformat": 4,
  "vscode": {
   "interpreter": {
    "hash": "a298da76777b3b23482b84d76865e04957fe551d3eb0775c0d4f911ca36ffa0f"
   }
  }
 },
 "nbformat": 4,
 "nbformat_minor": 2
}
