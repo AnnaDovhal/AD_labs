{
 "cells": [
  {
   "cell_type": "markdown",
   "metadata": {},
   "source": [
    "# Лабораторна робота номер 2\n",
    "### ФБ-24 Довгаль Анна"
   ]
  },
  {
   "cell_type": "markdown",
   "metadata": {},
   "source": [
    "1. Створити env в якому будуть встановлені всі необхідні бібліотеки та\n",
    "налаштування для данної лабораторної роботи"
   ]
  },
  {
   "cell_type": "markdown",
   "metadata": {},
   "source": [
    "\n",
    "```conda\n",
    "conda create --name adenv python\n",
    "conda activate adenv\n",
    "conda install pandas\n",
    "conda install urllib.request\n",
    "```"
   ]
  },
  {
   "cell_type": "markdown",
   "metadata": {},
   "source": [
    "2. Для кожної із адміністративних одиниць України завантажити тестові\n",
    "структуровані файли, що містять значення VHI-індексу. Ця процедура\n",
    "має бути автоматизована, параметром процедури має бути індекс\n",
    "(номер) області. При зберіганні файлу до його імені потрібно додати\n",
    "дату та час завантаження;"
   ]
  },
  {
   "cell_type": "code",
   "execution_count": null,
   "metadata": {},
   "outputs": [],
   "source": [
    "import urllib\n",
    "import datetime\n",
    "\n",
    "def get_csv(i):\n",
    "    url='https://www.star.nesdis.noaa.gov/smcd/emb/vci/VH/get_TS_admin.php?country=UKR&provinceID={}&year1=1981&year2=2024&type=Mean'.format(i)\n",
    "    wp = urllib.request.urlopen(url)\n",
    "    text = wp.read()\n",
    "    now = datetime.datetime.now()\n",
    "    date_and_time = now.strftime(\"%d-%m-%Y_%H-%M-%S\")\n",
    "    out = open('.\\\\csv\\\\NOAA_ID_'+str(i)+'_'+date_and_time+'.csv','wb')\n",
    "    out.write(text)\n",
    "    out.close()\n",
    "\n",
    "for i in range(1,28):\n",
    "    get_csv(i)"
   ]
  },
  {
   "cell_type": "markdown",
   "metadata": {},
   "source": [
    "3. Зчитати завантажені текстові файли у фрейм (детальніше про роботу\n",
    "із фреймами буде розказано у подальших лабораторних роботах).\n",
    "Імена стовбців фрейму мають бути змістовними та легкими для\n",
    "сприйняття (не повинно бути спеціалізованих символів, пробілів\n",
    "тощо). Ця задача має бути реалізована у вигляді окремої процедури,\n",
    "яка на вхід приймає шлях до директорії, в якій зберігаються файли;\n",
    "\n",
    "4. Реалізувати процедуру, яка змінить індекси областей, які використані\n",
    "на порталі NOAA на дані:"
   ]
  },
  {
   "cell_type": "code",
   "execution_count": 44,
   "metadata": {},
   "outputs": [
    {
     "data": {
      "text/html": [
       "<div>\n",
       "<style scoped>\n",
       "    .dataframe tbody tr th:only-of-type {\n",
       "        vertical-align: middle;\n",
       "    }\n",
       "\n",
       "    .dataframe tbody tr th {\n",
       "        vertical-align: top;\n",
       "    }\n",
       "\n",
       "    .dataframe thead th {\n",
       "        text-align: right;\n",
       "    }\n",
       "</style>\n",
       "<table border=\"1\" class=\"dataframe\">\n",
       "  <thead>\n",
       "    <tr style=\"text-align: right;\">\n",
       "      <th></th>\n",
       "      <th>Year</th>\n",
       "      <th>Week</th>\n",
       "      <th>SMN</th>\n",
       "      <th>SMT</th>\n",
       "      <th>VCI</th>\n",
       "      <th>TCI</th>\n",
       "      <th>VHI</th>\n",
       "      <th>area</th>\n",
       "    </tr>\n",
       "  </thead>\n",
       "  <tbody>\n",
       "    <tr>\n",
       "      <th>0</th>\n",
       "      <td>1982</td>\n",
       "      <td>1.0</td>\n",
       "      <td>0.059</td>\n",
       "      <td>258.24</td>\n",
       "      <td>51.11</td>\n",
       "      <td>48.78</td>\n",
       "      <td>49.95</td>\n",
       "      <td>21</td>\n",
       "    </tr>\n",
       "    <tr>\n",
       "      <th>1</th>\n",
       "      <td>1982</td>\n",
       "      <td>2.0</td>\n",
       "      <td>0.063</td>\n",
       "      <td>261.53</td>\n",
       "      <td>55.89</td>\n",
       "      <td>38.20</td>\n",
       "      <td>47.04</td>\n",
       "      <td>21</td>\n",
       "    </tr>\n",
       "    <tr>\n",
       "      <th>2</th>\n",
       "      <td>1982</td>\n",
       "      <td>3.0</td>\n",
       "      <td>0.063</td>\n",
       "      <td>263.45</td>\n",
       "      <td>57.30</td>\n",
       "      <td>32.69</td>\n",
       "      <td>44.99</td>\n",
       "      <td>21</td>\n",
       "    </tr>\n",
       "    <tr>\n",
       "      <th>3</th>\n",
       "      <td>1982</td>\n",
       "      <td>4.0</td>\n",
       "      <td>0.061</td>\n",
       "      <td>265.10</td>\n",
       "      <td>53.96</td>\n",
       "      <td>28.62</td>\n",
       "      <td>41.29</td>\n",
       "      <td>21</td>\n",
       "    </tr>\n",
       "    <tr>\n",
       "      <th>4</th>\n",
       "      <td>1982</td>\n",
       "      <td>5.0</td>\n",
       "      <td>0.058</td>\n",
       "      <td>266.42</td>\n",
       "      <td>46.87</td>\n",
       "      <td>28.57</td>\n",
       "      <td>37.72</td>\n",
       "      <td>21</td>\n",
       "    </tr>\n",
       "  </tbody>\n",
       "</table>\n",
       "</div>"
      ],
      "text/plain": [
       "   Year  Week    SMN     SMT    VCI    TCI    VHI  area\n",
       "0  1982   1.0  0.059  258.24  51.11  48.78  49.95    21\n",
       "1  1982   2.0  0.063  261.53  55.89  38.20  47.04    21\n",
       "2  1982   3.0  0.063  263.45  57.30  32.69  44.99    21\n",
       "3  1982   4.0  0.061  265.10  53.96  28.62  41.29    21\n",
       "4  1982   5.0  0.058  266.42  46.87  28.57  37.72    21"
      ]
     },
     "execution_count": 44,
     "metadata": {},
     "output_type": "execute_result"
    }
   ],
   "source": [
    "import pandas as pd\n",
    "import os\n",
    "\n",
    "def convert_ids(file, df):\n",
    "    correct_ids = {1 : 22, 2: 24, 3: 23, 4: 25, 5: 3, 6: 4, 7: 8, 8: 19, 9: 20, 10: 21, 11: 9, 12: 26, 13: 10, 14: 11, 15: 12, 16: 13, 17: 14, 18: 15, 19: 16, 20: 27, 21: 17, 22: 18, 23: 6, 24: 1, 25: 2, 26: 7, 27: 5}\n",
    "    parts = file.split(\"_\")\n",
    "    old_index = int(parts[2])\n",
    "    new_index = correct_ids.get(old_index)\n",
    "    df['area'] = new_index\n",
    "\n",
    "\n",
    "def to_df(path):\n",
    "    dfs=[]\n",
    "    for file in os.listdir(path):\n",
    "        headers = ['Year', 'Week', 'SMN', 'SMT', 'VCI', 'TCI', 'VHI', 'empty']\n",
    "        df = pd.read_csv(os.path.join(path, file), header = 1, names = headers)\n",
    "\n",
    "        convert_ids(file, df)\n",
    "\n",
    "        dfs.append(df)\n",
    "\n",
    "    df = pd.concat(dfs, ignore_index=True)\n",
    "\n",
    "    df = df.drop(df.loc[df['VHI'] == -1].index)\n",
    "    df.replace({\"<tt><pre>1982\": \"1982\"}, inplace=True)\n",
    "    df.drop(df[df['Year'] == '</pre></tt>'].index, inplace=True)\n",
    "    df = df.drop(columns=['empty'])\n",
    "    df['Year'] = pd.to_numeric(df['Year'])\n",
    "    return df\n",
    "    \n",
    "\n",
    "\n",
    "df = to_df('.\\\\csv\\\\')\n",
    "df.head()\n"
   ]
  },
  {
   "cell_type": "code",
   "execution_count": 29,
   "metadata": {},
   "outputs": [
    {
     "data": {
      "text/html": [
       "<div>\n",
       "<style scoped>\n",
       "    .dataframe tbody tr th:only-of-type {\n",
       "        vertical-align: middle;\n",
       "    }\n",
       "\n",
       "    .dataframe tbody tr th {\n",
       "        vertical-align: top;\n",
       "    }\n",
       "\n",
       "    .dataframe thead th {\n",
       "        text-align: right;\n",
       "    }\n",
       "</style>\n",
       "<table border=\"1\" class=\"dataframe\">\n",
       "  <thead>\n",
       "    <tr style=\"text-align: right;\">\n",
       "      <th></th>\n",
       "      <th>Year</th>\n",
       "      <th>Week</th>\n",
       "      <th>SMN</th>\n",
       "      <th>SMT</th>\n",
       "      <th>VCI</th>\n",
       "      <th>TCI</th>\n",
       "      <th>VHI</th>\n",
       "      <th>area</th>\n",
       "    </tr>\n",
       "  </thead>\n",
       "  <tbody>\n",
       "    <tr>\n",
       "      <th>60350</th>\n",
       "      <td>2024</td>\n",
       "      <td>5.0</td>\n",
       "      <td>0.101</td>\n",
       "      <td>275.13</td>\n",
       "      <td>58.55</td>\n",
       "      <td>8.77</td>\n",
       "      <td>33.66</td>\n",
       "      <td>20</td>\n",
       "    </tr>\n",
       "    <tr>\n",
       "      <th>60351</th>\n",
       "      <td>2024</td>\n",
       "      <td>6.0</td>\n",
       "      <td>0.110</td>\n",
       "      <td>276.43</td>\n",
       "      <td>60.83</td>\n",
       "      <td>9.08</td>\n",
       "      <td>34.96</td>\n",
       "      <td>20</td>\n",
       "    </tr>\n",
       "    <tr>\n",
       "      <th>60352</th>\n",
       "      <td>2024</td>\n",
       "      <td>7.0</td>\n",
       "      <td>0.120</td>\n",
       "      <td>277.97</td>\n",
       "      <td>61.35</td>\n",
       "      <td>10.45</td>\n",
       "      <td>35.90</td>\n",
       "      <td>20</td>\n",
       "    </tr>\n",
       "    <tr>\n",
       "      <th>60353</th>\n",
       "      <td>2024</td>\n",
       "      <td>8.0</td>\n",
       "      <td>0.130</td>\n",
       "      <td>279.15</td>\n",
       "      <td>60.18</td>\n",
       "      <td>13.87</td>\n",
       "      <td>37.02</td>\n",
       "      <td>20</td>\n",
       "    </tr>\n",
       "    <tr>\n",
       "      <th>60354</th>\n",
       "      <td>2024</td>\n",
       "      <td>9.0</td>\n",
       "      <td>0.142</td>\n",
       "      <td>280.64</td>\n",
       "      <td>59.61</td>\n",
       "      <td>16.63</td>\n",
       "      <td>38.12</td>\n",
       "      <td>20</td>\n",
       "    </tr>\n",
       "  </tbody>\n",
       "</table>\n",
       "</div>"
      ],
      "text/plain": [
       "       Year  Week    SMN     SMT    VCI    TCI    VHI  area\n",
       "60350  2024   5.0  0.101  275.13  58.55   8.77  33.66    20\n",
       "60351  2024   6.0  0.110  276.43  60.83   9.08  34.96    20\n",
       "60352  2024   7.0  0.120  277.97  61.35  10.45  35.90    20\n",
       "60353  2024   8.0  0.130  279.15  60.18  13.87  37.02    20\n",
       "60354  2024   9.0  0.142  280.64  59.61  16.63  38.12    20"
      ]
     },
     "execution_count": 29,
     "metadata": {},
     "output_type": "execute_result"
    }
   ],
   "source": [
    "df.tail()"
   ]
  },
  {
   "cell_type": "markdown",
   "metadata": {},
   "source": [
    "5. Реалізувати процедури для формування вибірок наступного виду\n",
    "(включаючи елементи аналізу):\n",
    "- Ряд VHI для області за вказаний рік, пошук екстремумів (min та\n",
    "max);\n",
    "- Ряд VHI за вказаний діапазон років для вказаних областей;\n",
    "виявити роки, протягом яких екстремальні посухи торкнулися\n",
    "більше вказаного відсотка областей по Україні (20% областей -\n",
    "5 областей з 25);\n",
    "- Аналогічно для помірних посух"
   ]
  },
  {
   "cell_type": "code",
   "execution_count": null,
   "metadata": {},
   "outputs": [],
   "source": [
    "def get_extremum(area, year):\n",
    "    min_v = df[(df[\"area\"] == area) & (df[\"Year\"] == year)]['VHI'].min()\n",
    "    max_v = df[(df[\"area\"] == area) & (df[\"Year\"] == year)]['VHI'].max()\n",
    "    print('min: ', min_v, '\\nmax: ', max_v)\n",
    "\n",
    "selected = df[(df[\"area\"] == 7) & (df[\"Year\"] == 2005)]['VHI']\n",
    "#selected.head()\n",
    "get_extremum(1, 2000)"
   ]
  },
  {
   "cell_type": "code",
   "execution_count": 45,
   "metadata": {},
   "outputs": [
    {
     "name": "stdout",
     "output_type": "stream",
     "text": [
      "       Year  area    VHI\n",
      "32254  2000     6  36.69\n",
      "32255  2000     6  40.87\n",
      "32256  2000     6  43.27\n",
      "32257  2000     6  44.39\n",
      "32258  2000     6  44.24\n",
      "...     ...   ...    ...\n",
      "40208  2023     7  34.82\n",
      "40209  2023     7  35.22\n",
      "40210  2023     7  35.57\n",
      "40211  2023     7  36.56\n",
      "40212  2023     7  37.99\n",
      "\n",
      "[3684 rows x 3 columns]\n"
     ]
    }
   ],
   "source": [
    "filtered = df[(df['Year'] >= 2000) & (df['Year'] <= 2023) & (df['area'].isin([2, 6, 7]))]\n",
    "print(filtered[['Year', 'area', 'VHI']])"
   ]
  },
  {
   "cell_type": "code",
   "execution_count": null,
   "metadata": {},
   "outputs": [],
   "source": [
    "def ext_droughts(pers):\n",
    "    total = 27  \n",
    "    years = df[df['VHI'] <= 15].groupby('Year')['area'].nunique() #рахує кількість областей на кожен рік з посухою\n",
    "    #print(years)\n",
    "    overpers = years[years > total * (pers / 100)]\n",
    "    print(f\"Роки з екстремальними посухами, які торкнулися більше {pers}% областей по Україні:\\n{overpers}\")\n",
    "\n",
    "ext_droughts(20)"
   ]
  },
  {
   "cell_type": "code",
   "execution_count": null,
   "metadata": {},
   "outputs": [],
   "source": [
    "def mild_droughts(pers):\n",
    "    total = 27  \n",
    "    years = df[(df['VHI'] <= 35) & (df['VHI'] > 15)].groupby('Year')['area'].nunique() #рахує кількість областей на кожен рік з посухою\n",
    "    #print(years)\n",
    "    overpers = years[years > total * (pers / 100)]\n",
    "    print(f\"Роки з помірними посухами, які торкнулися більше {pers}% областей по Україні:\\n{overpers}\")\n",
    "\n",
    "mild_droughts(70)"
   ]
  },
  {
   "cell_type": "code",
   "execution_count": null,
   "metadata": {},
   "outputs": [],
   "source": [
    "df.to_csv(\"lab2.csv\")"
   ]
  }
 ],
 "metadata": {
  "kernelspec": {
   "display_name": "Python 3.12.2 ('adenv')",
   "language": "python",
   "name": "python3"
  },
  "language_info": {
   "codemirror_mode": {
    "name": "ipython",
    "version": 3
   },
   "file_extension": ".py",
   "mimetype": "text/x-python",
   "name": "python",
   "nbconvert_exporter": "python",
   "pygments_lexer": "ipython3",
   "version": "3.12.2"
  },
  "orig_nbformat": 4,
  "vscode": {
   "interpreter": {
    "hash": "a298da76777b3b23482b84d76865e04957fe551d3eb0775c0d4f911ca36ffa0f"
   }
  }
 },
 "nbformat": 4,
 "nbformat_minor": 2
}
