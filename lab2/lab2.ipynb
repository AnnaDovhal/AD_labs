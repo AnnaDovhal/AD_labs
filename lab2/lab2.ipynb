{
 "cells": [
  {
   "cell_type": "markdown",
   "metadata": {},
   "source": [
    "# Лабораторна робота номер 2\n",
    "### ФБ-24 Довгаль Анна"
   ]
  },
  {
   "cell_type": "markdown",
   "metadata": {},
   "source": [
    "1. Створити env в якому будуть встановлені всі необхідні бібліотеки та\n",
    "налаштування для данної лабораторної роботи"
   ]
  },
  {
   "cell_type": "markdown",
   "metadata": {},
   "source": [
    "\n",
    "```conda\n",
    "conda create --name adenv python\n",
    "conda activate adenv\n",
    "conda install pandas\n",
    "conda install urllib.request\n",
    "```"
   ]
  },
  {
   "cell_type": "markdown",
   "metadata": {},
   "source": [
    "2. Для кожної із адміністративних одиниць України завантажити тестові\n",
    "структуровані файли, що містять значення VHI-індексу. Ця процедура\n",
    "має бути автоматизована, параметром процедури має бути індекс\n",
    "(номер) області. При зберіганні файлу до його імені потрібно додати\n",
    "дату та час завантаження;"
   ]
  },
  {
   "cell_type": "code",
   "execution_count": null,
   "metadata": {},
   "outputs": [],
   "source": [
    "import urllib\n",
    "import datetime\n",
    "import os\n",
    "\n",
    "def get_csv(i):\n",
    "    if not os.path.exists('csv'):\n",
    "        os.makedirs('csv')\n",
    "        \n",
    "    url='https://www.star.nesdis.noaa.gov/smcd/emb/vci/VH/get_TS_admin.php?country=UKR&provinceID={}&year1=1981&year2=2024&type=Mean'.format(i)\n",
    "    wp = urllib.request.urlopen(url)\n",
    "    text = wp.read()\n",
    "    now = datetime.datetime.now()\n",
    "    date_and_time = now.strftime(\"%d-%m-%Y_%H-%M-%S\")\n",
    "    out = open('.\\\\csv\\\\NOAA_ID_'+str(i)+'_'+date_and_time+'.csv','wb')\n",
    "    out.write(text)\n",
    "    out.close()\n",
    "\n",
    "for i in range(1,28):\n",
    "    get_csv(i)"
   ]
  },
  {
   "cell_type": "markdown",
   "metadata": {},
   "source": [
    "3. Зчитати завантажені текстові файли у фрейм (детальніше про роботу\n",
    "із фреймами буде розказано у подальших лабораторних роботах).\n",
    "Імена стовбців фрейму мають бути змістовними та легкими для\n",
    "сприйняття (не повинно бути спеціалізованих символів, пробілів\n",
    "тощо). Ця задача має бути реалізована у вигляді окремої процедури,\n",
    "яка на вхід приймає шлях до директорії, в якій зберігаються файли;\n"
   ]
  },
  {
   "cell_type": "code",
   "execution_count": null,
   "metadata": {},
   "outputs": [],
   "source": [
    "import pandas as pd\n",
    "import os\n",
    "\n",
    "\n",
    "def to_df(path):\n",
    "    dfs=[]\n",
    "    for file in os.listdir(path):\n",
    "        if file.endswith('.csv'):\n",
    "            headers = ['Year', 'Week', 'SMN', 'SMT', 'VCI', 'TCI', 'VHI']\n",
    "            df = pd.read_csv(os.path.join(path, file), header = 1, index_col=False, names = headers)\n",
    "            parts = file.split(\"_\")\n",
    "            index = int(parts[2])\n",
    "            df['Area'] = index\n",
    "\n",
    "            dfs.append(df)\n",
    "\n",
    "    df = pd.concat(dfs).drop_duplicates().reset_index(drop=True)\n",
    "\n",
    "    df = df.drop(df.loc[df['VHI'] == -1].index)\n",
    "    df.replace({\"<tt><pre>1982\": \"1982\"}, inplace=True)\n",
    "    df.drop(df[df['Year'] == '</pre></tt>'].index, inplace=True)\n",
    "    df['Year'] = pd.to_numeric(df['Year'])\n",
    "    return df\n",
    "    \n",
    "\n",
    "\n",
    "df = to_df('.\\\\csv\\\\')\n",
    "df.head()\n"
   ]
  },
  {
   "cell_type": "code",
   "execution_count": null,
   "metadata": {},
   "outputs": [],
   "source": [
    "df.tail()"
   ]
  },
  {
   "cell_type": "markdown",
   "metadata": {},
   "source": [
    "4. Реалізувати процедуру, яка змінить індекси областей, які використані\n",
    "на порталі NOAA на дані:"
   ]
  },
  {
   "cell_type": "code",
   "execution_count": null,
   "metadata": {},
   "outputs": [],
   "source": [
    "def convert_ids(df):\n",
    "    correct_ids = {1 : 22, 2: 24, 3: 23, 4: 25, 5: 3, 6: 4, 7: 8, 8: 19, 9: 20, 10: 21, 11: 9, 12: 26, 13: 10, 14: 11, 15: 12, 16: 13, 17: 14, 18: 15, 19: 16, 20: 27, 21: 17, 22: 18, 23: 6, 24: 1, 25: 2, 26: 7, 27: 5}\n",
    "    df['Area'].replace(correct_ids, inplace = True)\n",
    "    return df\n",
    "\n",
    "convert_ids(df)\n",
    "df.head()"
   ]
  },
  {
   "cell_type": "markdown",
   "metadata": {},
   "source": [
    "5. Реалізувати процедури для формування вибірок наступного виду\n",
    "(включаючи елементи аналізу):\n",
    "- Ряд VHI для області за вказаний рік, пошук екстремумів (min та\n",
    "max);\n",
    "- Ряд VHI за вказаний діапазон років для вказаних областей;\n",
    "виявити роки, протягом яких екстремальні посухи торкнулися\n",
    "більше вказаного відсотка областей по Україні (20% областей -\n",
    "5 областей з 25);\n",
    "- Аналогічно для помірних посух"
   ]
  },
  {
   "cell_type": "code",
   "execution_count": null,
   "metadata": {},
   "outputs": [],
   "source": [
    "def get_extremum(df, area, year):\n",
    "    min_v = df[(df[\"Area\"] == area) & (df[\"Year\"] == year)]['VHI'].min()\n",
    "    max_v = df[(df[\"Area\"] == area) & (df[\"Year\"] == year)]['VHI'].max()\n",
    "    return min_v, max_v\n",
    "    \n",
    "\n",
    "selected = df[(df[\"Area\"] == 7) & (df[\"Year\"] == 2005)]['VHI']\n",
    "\n",
    "min, max = get_extremum(df, 21, 1982)\n",
    "print('min: ', min, '\\nmax: ', max)"
   ]
  },
  {
   "cell_type": "code",
   "execution_count": null,
   "metadata": {},
   "outputs": [],
   "source": [
    "filtered = df[(df['Year'] >= 2000) & (df['Year'] <= 2003) & (df['Area'].isin([2, 6, 7]))]\n",
    "print(filtered[['Year', 'Area', 'VHI']])"
   ]
  },
  {
   "cell_type": "code",
   "execution_count": null,
   "metadata": {},
   "outputs": [],
   "source": [
    "def ext_droughts(df, pers):\n",
    "    total = 27  \n",
    "    years = df[df['VHI'] <= 15].groupby('Year')['Area'].nunique() #рахує кількість областей на кожен рік з посухою\n",
    "    overpers = years[years > total * (pers / 100)]\n",
    "    return overpers\n",
    "    \n",
    "persnt = 20\n",
    "print(f\"Роки з екстремальними посухами, які торкнулися більше {persnt}% областей по Україні:\\n{ext_droughts(df, persnt)}\")"
   ]
  },
  {
   "cell_type": "code",
   "execution_count": null,
   "metadata": {},
   "outputs": [],
   "source": [
    "def mild_droughts(df, pers):\n",
    "    total = 27  \n",
    "    years = df[(df['VHI'] <= 35) & (df['VHI'] > 15)].groupby('Year')['Area'].nunique() \n",
    "    overpers = years[years > total * (pers / 100)]\n",
    "    return overpers\n",
    "    \n",
    "pers = 90\n",
    "print(f\"Роки з помірними посухами, які торкнулися більше {pers}% областей по Україні:\\n{mild_droughts(df, pers)}\")"
   ]
  },
  {
   "cell_type": "code",
   "execution_count": null,
   "metadata": {},
   "outputs": [],
   "source": [
    "df.to_csv(\"lab2.csv\")"
   ]
  }
 ],
 "metadata": {
  "kernelspec": {
   "display_name": "Python 3.12.2 ('adenv')",
   "language": "python",
   "name": "python3"
  },
  "language_info": {
   "codemirror_mode": {
    "name": "ipython",
    "version": 3
   },
   "file_extension": ".py",
   "mimetype": "text/x-python",
   "name": "python",
   "nbconvert_exporter": "python",
   "pygments_lexer": "ipython3",
   "version": "3.12.2"
  },
  "orig_nbformat": 4,
  "vscode": {
   "interpreter": {
    "hash": "a298da76777b3b23482b84d76865e04957fe551d3eb0775c0d4f911ca36ffa0f"
   }
  }
 },
 "nbformat": 4,
 "nbformat_minor": 2
}
