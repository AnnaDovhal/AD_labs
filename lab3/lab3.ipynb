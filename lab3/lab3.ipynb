{
 "cells": [
  {
   "cell_type": "markdown",
   "metadata": {},
   "source": [
    "# Лабораторна робота номер 3\n",
    "### ФБ-24 Довгаль Анна"
   ]
  },
  {
   "cell_type": "markdown",
   "metadata": {},
   "source": [
    "\n",
    "```python\n",
    "python -m venv .venv\n",
    ".venv\\Scripts\\activate\n",
    "pip install dataspyre\n",
    "```"
   ]
  },
  {
   "cell_type": "markdown",
   "metadata": {},
   "source": [
    "#### Створити веб-додаток із використанням модуля Spyre, який дозволить:\n",
    "- обрати часовий ряд VCI, TCI, VHI для набору даних із лабораторної роботи 1 (випадаючий\n",
    "список);"
   ]
  },
  {
   "cell_type": "markdown",
   "metadata": {},
   "source": [
    "```python\n",
    "from spyre import server\n",
    "import pandas as pd\n",
    "\n",
    "class StockExample (server.App):\n",
    "    title = \"NOAA data vizualization\"\n",
    "\n",
    "    inputs = [{\n",
    "        \"type\": \"dropdown\",\n",
    "        \"label\": \"NOAA data dropdown\",\n",
    "        \"options\": [\n",
    "            {\"label\": \"VCI\", \"value\": \"VCI\"},\n",
    "            {\"label\": \"TCI\", \"value\": \"TCI\"},\n",
    "            {\"label\": \"VHI\", \"value\": \"VHI\"}\n",
    "        ],\n",
    "        \"key\": \"ticker\",\n",
    "        \"action_id\": \"update_data\"\n",
    "    }]\n",
    "```"
   ]
  },
  {
   "cell_type": "markdown",
   "metadata": {},
   "source": [
    "- Вибрати область, для якої буде виконуватись аналіз (випадаючий список);"
   ]
  },
  {
   "cell_type": "markdown",
   "metadata": {},
   "source": [
    "```python\n",
    "regions = {\n",
    "    1: 'Вінницька', 2: 'Волинська', 3: 'Дніпропетровська', 4: 'Донецька', 5: 'Житомирська',\n",
    "    6: 'Закарпатська', 7: 'Запорізька', 8: 'Івано-Франківська', 9: 'Київська', 10: 'Кіровоградська',\n",
    "    11: 'Луганська', 12: 'Львівська', 13: 'Миколаївська', 14: 'Одеська', 15: 'Полтавська',\n",
    "    16: 'Рівенська', 17: 'Сумська', 18: 'Тернопільська', 19: 'Харківська', 20: 'Херсонська',\n",
    "    21: 'Хмельницька', 22: 'Черкаська', 23: 'Чернівецька', 24: 'Чернігівська', 25: 'Республіка Крим'\n",
    "}\n",
    "\n",
    "\n",
    "inputs = [\n",
    "    {\n",
    "            \"type\": \"dropdown\",\n",
    "            \"label\": \"Оберіть область України\",\n",
    "            \"options\": [{\"label\": region_name, \"value\": str(region_index)} for region_index, region_name in regions.items()],\n",
    "            \"key\": \"region\",\n",
    "            \"action_id\": \"update_data\"\n",
    "        }]\n",
    "```"
   ]
  },
  {
   "cell_type": "markdown",
   "metadata": {},
   "source": [
    "- Зазначити інтервал тижнів, за які відбираються дані;"
   ]
  },
  {
   "cell_type": "markdown",
   "metadata": {},
   "source": [
    "```python\n",
    "inputs = [\n",
    "        {\n",
    "            \"type\": \"text\",\n",
    "            \"label\": \"Оберіть інтервал тижнів\",\n",
    "            \"key\": \"weeks_interval\",\n",
    "            \"value\": \"9-10\",\n",
    "            \"action_id\": \"update_data\"\n",
    "        },\n",
    "        {\n",
    "            \"type\":'slider',\n",
    "            \"label\": 'Оберіть рік:',\n",
    "            \"min\" : 1981,\n",
    "            \"max\" : 2024,\n",
    "            \"key\": 'year',\n",
    "            \"action_id\" : \"update_data\"  \n",
    "        }]\n",
    "```"
   ]
  },
  {
   "cell_type": "markdown",
   "metadata": {},
   "source": [
    "- Створити кілька вкладок для відображення таблиці із даними на графіку ходу індексів;"
   ]
  },
  {
   "cell_type": "markdown",
   "metadata": {},
   "source": [
    "```python\n",
    "    tabs = [\"Plot\", \"Table\"]\n",
    "\n",
    "    controls = [{\"type\": \"hidden\", \"id\": \"update_data\"}]\n",
    "\n",
    "\n",
    "    outputs = [{\n",
    "            \"type\": \"plot\",\n",
    "            \"id\": \"plot\",\n",
    "            \"control_id\": \"update_data\",\n",
    "            \"tab\": \"Plot\"\n",
    "        },\n",
    "        { \"type\": \"table\",\n",
    "            \"id\" : \"table_id\",\n",
    "            \"control_id\": \"update_data\",\n",
    "            \"tab\" : \"Table\",\n",
    "            \"on_page_load\": True }]\n",
    "\n",
    "    def getData(self, params): \n",
    "        region = params['region']\n",
    "        weeks = params['weeks_interval']\n",
    "        year = params['year']\n",
    "        colum = params['ticker']\n",
    "\n",
    "        df = pd.read_csv(\"D:\\\\Mine\\\\University\\\\AD\\\\AD_labs\\\\lab3\\\\lab2.csv\")  \n",
    "        df = df[df['Area'] == int(region)]\n",
    "        start_week, end_week = map(int, weeks.split('-'))\n",
    "        df = df[(df['Week'] >= start_week) & (df['Week'] <= end_week) & (df['Year'] == year) ]\n",
    "        df1 = df[['Year', 'Week', colum]]\n",
    "        return df1\n",
    "\n",
    "    def getPlot(self, params):\n",
    "        df = self.getData(params)\n",
    "        region = int(params['region'])\n",
    "        weeks = params['weeks_interval']\n",
    "        year = int(params['year'])\n",
    "        colum = params['ticker']\n",
    "\n",
    "        plt_obj = df.plot(x = \"Week\", y = colum, legend=False, figsize=(15, 5), color='green', linewidth=3)\n",
    "        plt_obj.grid(linestyle = '--')\n",
    "        plt_obj.set_xlabel('Week', color='purple', style= 'oblique', fontsize=12)\n",
    "        plt_obj.set_ylabel(colum, color='purple', style='oblique', fontsize=12)\n",
    "        plt_obj.set_title(f\"Графік {colum} за {year} рік для {weeks} тижнів у обл. {regions[region]}\", fontsize=14, color='blue', family='cursive')\n",
    "        \n",
    "        max_value = df[colum].max()\n",
    "        max_position = df[colum].idxmax()\n",
    "        max_x = df.loc[max_position, 'Week']\n",
    "        max_y = df.loc[max_position, colum]\n",
    "        plt_obj.annotate(f'max = {max_value}', xy=(max_x, max_y), xytext=(max_x + 1, max_y + 0.5), \n",
    "                        arrowprops=dict(facecolor='black', shrink=0.05))\n",
    "\n",
    "        fig = plt_obj.get_figure()\n",
    "        return fig\n",
    "\n",
    "app = StockExample()\n",
    "app.launch(port=9093)\n",
    "```"
   ]
  }
 ],
 "metadata": {
  "kernelspec": {
   "display_name": "Python 3.10.7 64-bit",
   "language": "python",
   "name": "python3"
  },
  "language_info": {
   "codemirror_mode": {
    "name": "ipython",
    "version": 3
   },
   "file_extension": ".py",
   "mimetype": "text/x-python",
   "name": "python",
   "nbconvert_exporter": "python",
   "pygments_lexer": "ipython3",
   "version": "3.10.7"
  },
  "orig_nbformat": 4,
  "vscode": {
   "interpreter": {
    "hash": "1cc3ae6da35932c9468166d16067be557d0e6799f22486ced3693d2974308d9a"
   }
  }
 },
 "nbformat": 4,
 "nbformat_minor": 2
}
