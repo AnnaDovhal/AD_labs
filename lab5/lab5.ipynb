{
 "cells": [
  {
   "cell_type": "markdown",
   "metadata": {},
   "source": [
    "# Лабораторна робота номер 5\n",
    "### ФБ-24 Довгаль Анна"
   ]
  },
  {
   "cell_type": "markdown",
   "metadata": {},
   "source": [
    "1. Перша частина"
   ]
  },
  {
   "cell_type": "markdown",
   "metadata": {},
   "source": [
    "Реалізуйте функцію harmonic_with_noise, яка приймає наступні параметри:\n",
    "- amplitude - амплітуда гармоніки.\n",
    "- frequency - частота гармоніки.\n",
    "- phase – фазовий зсув гаромніки\n",
    "- noise_mean - амплітуда шуму.\n",
    "- noise_covariance – дисперсія шуму\n",
    "- show_noise - флаг, який вказує, чи слід показувати шум на графіку.\n"
   ]
  },
  {
   "cell_type": "markdown",
   "metadata": {},
   "source": [
    "```python\n",
    "import numpy as np\n",
    "import matplotlib.pyplot as plt\n",
    "from matplotlib.widgets import Slider, CheckButtons, Button\n",
    "from scipy.signal import iirfilter, filtfilt\n",
    "\n",
    "# Визначення часу\n",
    "t = np.linspace(0, 10, 1000)\n",
    "\n",
    "# Початкові значення параметрів\n",
    "initial_amplitude = 1.0\n",
    "initial_frequency = 0.3\n",
    "initial_phase = 0.0\n",
    "initial_noise_mean = 0.0\n",
    "initial_noise_covariance = 0.1\n",
    "initial_cutoff_freq = 0.04\n",
    "show_noise = True\n",
    "\n",
    "prev_noise_mean, prev_noise_covariance = initial_noise_mean, initial_noise_covariance\n",
    "noise = np.random.normal(initial_noise_mean, initial_noise_covariance, size=len(t))\n",
    "\n",
    "def regenerate_noise(nom, noc):\n",
    "    global noise\n",
    "    noise = np.random.normal(nom, noc, size=len(t))\n",
    "\n",
    "# Функція для гармоніки з накладеним шумом\n",
    "def harmonic_with_noise(t, amplitude, frequency, phase, noise_mean, noise_covariance, show_noise):\n",
    "    signal = amplitude * np.sin(2 * np.pi * frequency * t + phase)\n",
    "    global prev_noise_mean, prev_noise_covariance\n",
    "    if show_noise:\n",
    "        if (noise_mean != prev_noise_mean or noise_covariance != prev_noise_covariance):\n",
    "            prev_noise_mean, prev_noise_covariance = noise_mean, noise_covariance\n",
    "            regenerate_noise(noise_mean, noise_covariance)\n",
    "        return signal + noise\n",
    "    else:\n",
    "        return signal\n",
    "```"
   ]
  },
  {
   "cell_type": "markdown",
   "metadata": {},
   "source": [
    "У програмі має бути створено головне вікно з такими елементами інтерфейсу:\n",
    "- Поле для графіку функції (plot)\n",
    "- Слайдери (sliders), які відповідають за амплітуду, частоту гармоніки, а також\n",
    "слайдери для параметрів шуму\n",
    "- Чекбокс для перемикання відображення шуму на гармоніці\n",
    "- Кнопка «Reset», яка відновлює початкові параметри\n",
    "\n",
    "Через чекбокс користувач може вмикати або вимикати відображення шуму на графіку.\n",
    "Якщо прапорець прибрано – відображати «чисту гармоніку», якщо ні – зашумлену."
   ]
  },
  {
   "cell_type": "markdown",
   "metadata": {},
   "source": [
    "```python\n",
    "# Створення графічного вікна та підготовка підграфіків\n",
    "fig, axs = plt.subplots(2, 1)\n",
    "fig.subplots_adjust(left=0.25, top=0.95, bottom=0.32)\n",
    "\n",
    "# Створення графіків\n",
    "y = harmonic_with_noise(t, initial_amplitude, initial_frequency, initial_phase, initial_noise_mean, initial_noise_covariance, show_noise)\n",
    "filt_y = apply_filter(y, initial_cutoff_freq)\n",
    "\n",
    "line, = axs[0].plot(t, y, color=\"blue\")\n",
    "axs[0].set_title(\"Harmonic\")\n",
    "\n",
    "filtered_line, = axs[1].plot(t, filt_y, color='red', label = \"Filtered Harmonic\")\n",
    "axs[1].set_title(\"Filtered Harmonic\")\n",
    "\n",
    "amp_slider_ax = plt.axes([0.25, 0.25, 0.65, 0.03])\n",
    "amp_slider = Slider(amp_slider_ax, 'Amplitude', 0.1, 10.0, valinit=initial_amplitude)\n",
    "amp_slider.on_changed(update_plot)\n",
    "\n",
    "freq_slider_ax = plt.axes([0.25, 0.2, 0.65, 0.03])\n",
    "freq_slider = Slider(freq_slider_ax, 'Frequency', 0.01, 3.0, valinit=initial_frequency)\n",
    "freq_slider.on_changed(update_plot)\n",
    "\n",
    "phase_slider_ax = plt.axes([0.25, 0.15, 0.65, 0.03])\n",
    "phase_slider = Slider(phase_slider_ax, 'Phase', 0.0, 2 * np.pi, valinit=initial_phase)\n",
    "phase_slider.on_changed(update_plot)\n",
    "\n",
    "noise_mean_slider_ax = plt.axes([0.25, 0.1, 0.65, 0.03])\n",
    "noise_mean_slider = Slider(noise_mean_slider_ax, 'Noise Mean', -1.0, 1.0, valinit=initial_noise_mean)\n",
    "noise_mean_slider.on_changed(update_plot)\n",
    "\n",
    "noise_covar_slider_ax = plt.axes([0.25, 0.05, 0.65, 0.03])\n",
    "noise_covar_slider = Slider(noise_covar_slider_ax, 'Noise Covariance', 0.01, 1.0, valinit=initial_noise_covariance)\n",
    "noise_covar_slider.on_changed(update_plot)\n",
    "\n",
    "check_ax = plt.axes([0.01, 0.6, 0.18, 0.1])\n",
    "check = CheckButtons(check_ax, ['Show Noise'], [True])\n",
    "check.on_clicked(update_plot)\n",
    "\n",
    "reset_ax = plt.axes([0.01, 0.5, 0.18, 0.1])\n",
    "button = Button(reset_ax, 'Reset')\n",
    "```"
   ]
  },
  {
   "cell_type": "markdown",
   "metadata": {},
   "source": [
    "Після оновлення параметрів програма повинна одразу оновлювати графік функції\n",
    "гармоніки з накладеним шумом згідно з виставленими параметрами."
   ]
  },
  {
   "cell_type": "markdown",
   "metadata": {},
   "source": [
    "```python\n",
    "def update_plot(val):\n",
    "    amplitude = amp_slider.val\n",
    "    frequency = freq_slider.val\n",
    "    phase = phase_slider.val\n",
    "    noise_mean = noise_mean_slider.val\n",
    "    noise_covariance = noise_covar_slider.val\n",
    "    cutoff_freq = cutoff_freq_slider.val\n",
    "    show_noise = check.get_status()[0]\n",
    "\n",
    "    y = harmonic_with_noise(t, amplitude, frequency, phase, noise_mean, noise_covariance, show_noise)\n",
    "    filtered_y = apply_filter(y, cutoff_freq)\n",
    "\n",
    "    line.set_ydata(y)\n",
    "    filtered_line.set_ydata(filtered_y)\n",
    "\n",
    "    axs[0].relim()\n",
    "    axs[0].autoscale_view()\n",
    "    axs[1].relim()\n",
    "    axs[1].autoscale_view()\n",
    "    plt.draw()\n",
    "```"
   ]
  },
  {
   "cell_type": "markdown",
   "metadata": {},
   "source": [
    "Після натискання кнопки «Reset», мають відновитись початкові параметри"
   ]
  },
  {
   "cell_type": "markdown",
   "metadata": {},
   "source": [
    "```python\n",
    "def reset(event):\n",
    "    amp_slider.reset()\n",
    "    freq_slider.reset()\n",
    "    phase_slider.reset()\n",
    "    noise_mean_slider.reset()\n",
    "    noise_covar_slider.reset()\n",
    "    cutoff_freq_slider.reset()\n",
    "\n",
    "button.on_clicked(reset)\n",
    "```"
   ]
  },
  {
   "cell_type": "markdown",
   "metadata": {},
   "source": [
    "Отриману гармоніку з накладеним на неї шумом відфільтруйте за допомогою фільтру\n",
    "на ваш вибір (наприклад scipy.signal.iirfilter, повний список за посиланням:\n",
    "https://docs.scipy.org/doc/scipy/reference/signal.html). Відфільтрована гармоніка має\n",
    "бути максимально близька до «чистої»"
   ]
  },
  {
   "cell_type": "markdown",
   "metadata": {},
   "source": [
    "```python\n",
    "def apply_filter(y, cutoff_freq, order=4):\n",
    "    b, a = iirfilter(order, cutoff_freq, btype='lowpass')\n",
    "    return filtfilt(b, a, y)\n",
    "```"
   ]
  },
  {
   "cell_type": "markdown",
   "metadata": {},
   "source": [
    "Відобразіть відфільтровану «чисту» гармоніку поряд з початковою"
   ]
  },
  {
   "cell_type": "markdown",
   "metadata": {},
   "source": [
    "```python\n",
    "fig, axs = plt.subplots(2, 1)\n",
    "fig.subplots_adjust(left=0.25, top=0.95, bottom=0.32)\n",
    "\n",
    "# Створення графіків\n",
    "y = harmonic_with_noise(t, initial_amplitude, initial_frequency, initial_phase, initial_noise_mean, initial_noise_covariance, show_noise)\n",
    "filt_y = apply_filter(y, initial_cutoff_freq)\n",
    "\n",
    "line, = axs[0].plot(t, y, color=\"blue\")\n",
    "axs[0].set_title(\"Harmonic\")\n",
    "\n",
    "filtered_line, = axs[1].plot(t, filt_y, color='red', label = \"Filtered Harmonic\")\n",
    "axs[1].set_title(\"Filtered Harmonic\")\n",
    "```"
   ]
  },
  {
   "cell_type": "markdown",
   "metadata": {},
   "source": [
    "Додайте відповідні інтерактивні елементи (чекбокс показу, параметри фільтру тощо) та\n",
    "оновіть існуючі: відфільтрована гармоніка має оновлюватись разом з початковою."
   ]
  },
  {
   "cell_type": "markdown",
   "metadata": {},
   "source": [
    "```python\n",
    "cutoff_freq_slider_ax = plt.axes([0.25, 0, 0.65, 0.03])\n",
    "cutoff_freq_slider = Slider(cutoff_freq_slider_ax, 'Cutoff Frequency', 0.001, 0.09, valinit=initial_cutoff_freq)\n",
    "cutoff_freq_slider.on_changed(update_plot)\n",
    "```"
   ]
  },
  {
   "cell_type": "markdown",
   "metadata": {},
   "source": [
    "2. Частина друга"
   ]
  },
  {
   "cell_type": "markdown",
   "metadata": {},
   "source": [
    "Реалізуйте завдання 1 за допомогою сучасних графічних бібліотек на ваш вибір: Plotly,\n",
    "Bokeh, Altair тощо. Додайте декілька вікон для візуалізації замість одного, спадне меню\n",
    "(drop-down menu) та інші інтерактивні елементи на власний розсуд."
   ]
  },
  {
   "cell_type": "markdown",
   "metadata": {},
   "source": [
    "```python\n",
    "from bokeh.plotting import figure, curdoc\n",
    "from bokeh.layouts import column, row\n",
    "from bokeh.models import ColumnDataSource, Slider, Switch, Button, Paragraph, Select\n",
    "import numpy as np\n",
    "\n",
    "t = np.linspace(0, 10, 1000)\n",
    "\n",
    "initial_amplitude = 1.0\n",
    "initial_frequency = 0.3\n",
    "initial_phase = 0.0\n",
    "initial_noise_mean = 0.0\n",
    "initial_noise_covariance = 0.1\n",
    "initial_cutoff_freq = 10\n",
    "show_noise = True\n",
    "initial_filter = \"Simple Moving Average\"\n",
    "initial_window_size = 10\n",
    "initial_coef = 0.5\n",
    "\n",
    "prev_noise_mean, prev_noise_covariance = initial_noise_mean, initial_noise_covariance\n",
    "noise = np.random.normal(initial_noise_mean, initial_noise_covariance, size=len(t))\n",
    "\n",
    "\n",
    "def regenerate_noise(nom, noc):\n",
    "    global noise\n",
    "    noise = np.random.normal(nom, noc, size=len(t))\n",
    "\n",
    "def harmonic_with_noise(t, amplitude, frequency, phase, noise_mean, noise_covariance, show_noise):\n",
    "    signal = amplitude * np.sin(2 * np.pi * frequency * t + phase)\n",
    "    global prev_noise_mean, prev_noise_covariance\n",
    "    if show_noise:\n",
    "        if (noise_mean != prev_noise_mean or noise_covariance != prev_noise_covariance):\n",
    "            prev_noise_mean, prev_noise_covariance = noise_mean, noise_covariance\n",
    "            regenerate_noise(noise_mean, noise_covariance)\n",
    "        return signal + noise\n",
    "    else:\n",
    "        return signal\n",
    "\n",
    "\n",
    "def apply_filter(signal, filter_type, window_size, coef):\n",
    "    if filter_type == 'Exponential Weighted Moving Average':\n",
    "        ewma_values = [signal[0]]\n",
    "        alpha = coef\n",
    "        for i in range(1, len(signal)):\n",
    "            next_ewma = alpha * signal[i] + (1 - alpha) * ewma_values[-1]\n",
    "            ewma_values.append(next_ewma)\n",
    "        return np.array(ewma_values)\n",
    "            \n",
    "    elif filter_type == 'Simple Moving Average':\n",
    "        return np.convolve(signal, np.ones(window_size)/window_size, mode='same')\n",
    "\n",
    "\n",
    "plot1 = figure(title=\"Гармоніка з шумом\", tools=\"crosshair,pan,reset,save,wheel_zoom\",\n",
    "                x_axis_label=\"time\", y_axis_label=\"y\", toolbar_location=\"below\")\n",
    "\n",
    "plot2 = figure(title=\"Відфільтрована гармоніка\", tools=\"crosshair,pan,reset,save,wheel_zoom\",\n",
    "                x_axis_label=\"time\", y_axis_label=\"y\", toolbar_location=\"below\")\n",
    "\n",
    "y = harmonic_with_noise(t, initial_amplitude, initial_frequency, initial_phase, initial_noise_mean, initial_noise_covariance, show_noise)\n",
    "filt_y = apply_filter(y, initial_filter, initial_window_size, initial_coef)\n",
    "\n",
    "source = ColumnDataSource(data=dict(x=t, y=y))\n",
    "filtsource = ColumnDataSource(data=dict(x=t, y=filt_y))\n",
    "\n",
    "plot1.line('x', 'y', source=source, line_width=2, color='blue')\n",
    "plot2.line('x', 'y', source=filtsource, color='yellow', line_width=3)\n",
    "\n",
    "plot1.title_location = \"above\"\n",
    "plot1.title.text_font_size = \"25px\"\n",
    "plot1.title.align = \"center\"\n",
    "plot1.title.text_color = \"darkblue\"\n",
    "plot1.grid.grid_line_alpha = 0.9\n",
    "plot1.grid.grid_line_dash = [6, 4]\n",
    "\n",
    "plot2.title_location = \"above\"\n",
    "plot2.title.text_font_size = \"25px\"\n",
    "plot2.title.align = \"center\"\n",
    "plot2.title.text_color = \"darkblue\"\n",
    "plot2.grid.grid_line_alpha = 0.9\n",
    "plot2.grid.grid_line_dash = [6, 4]\n",
    "\n",
    "def update_plot(attrname, old, new):\n",
    "    amplitude = amplitude_slider.value\n",
    "    frequency = frequency_slider.value\n",
    "    phase = phase_slider.value\n",
    "    noise_mean = noise_mean_slider.value\n",
    "    noise_covariance = noise_covariance_slider.value\n",
    "    show_noise = show_noise_checkbox.active\n",
    "    filter_type = filter_select.value\n",
    "    window_size = window_size_slider.value\n",
    "    coef = coef_slider.value\n",
    "\n",
    "    y = harmonic_with_noise(t, amplitude, frequency, phase, noise_mean, noise_covariance, show_noise)\n",
    "    filtered_y = apply_filter(y, filter_type, window_size, coef)\n",
    "\n",
    "    source.data = dict(x=t, y=y)\n",
    "    filtsource.data = dict(x=t, y=filtered_y)\n",
    "\n",
    "# Створення слайдерів\n",
    "amplitude_slider = Slider(title=\"Amplitude\", value=initial_amplitude, start=-10, end=10, step=1, bar_color=\"green\", margin=12)\n",
    "frequency_slider = Slider(title=\"Frequency\", value=initial_frequency, start=0, end=3, step=0.01, bar_color=\"blue\", margin=10)\n",
    "phase_slider = Slider(title=\"Phase\", value=initial_phase, start=0, end=2*np.pi, step=0.1, bar_color=\"purple\", margin=10)\n",
    "noise_mean_slider = Slider(title=\"Noise Mean\", value=initial_noise_mean, start=-1, end=1, step=0.1, bar_color=\"yellow\", margin=10)\n",
    "noise_covariance_slider = Slider(title=\"Noise Covariance\", value=initial_noise_covariance, start=0, end=1, step=0.01, bar_color=\"orange\", margin=10)\n",
    "window_size_slider = Slider(title=\"Moving Average Window Size\", value=initial_window_size, start=1, end=100, step=1, bar_color=\"darkblue\", margin=10)\n",
    "coef_slider = Slider(title=\"Expotential Average Window Factor\", value=initial_coef, start=0.01, end=1, step=0.01, bar_color=\"darkblue\", margin=10)\n",
    "filter_select = Select(title=\"Filter Type:\", value=initial_filter, options=[\"Simple Moving Average\", \"Exponential Weighted Moving Average\"], margin=10)\n",
    "show_noise_checkbox = Switch(active=show_noise, margin=10, align=\"center\")\n",
    "p = Paragraph(text=\"\"\"Show/Not Noise\"\"\", margin=10, align=\"center\")\n",
    "\n",
    "# Створення кнопки Reset\n",
    "reset_button = Button(label=\"Reset\", button_type=\"success\", margin=10)\n",
    "\n",
    "def reset():\n",
    "    amplitude_slider.value = initial_amplitude\n",
    "    frequency_slider.value = initial_frequency\n",
    "    phase_slider.value = initial_phase\n",
    "    noise_mean_slider.value = initial_noise_mean\n",
    "    noise_covariance_slider.value = initial_noise_covariance\n",
    "    show_noise_checkbox.active = show_noise\n",
    "    coef_slider.value = initial_coef\n",
    "    filter_select.value = initial_filter\n",
    "\n",
    "reset_button.on_click(reset)\n",
    "\n",
    "# Оновлення графіків при зміні параметрів\n",
    "for slider in [amplitude_slider, frequency_slider, phase_slider, noise_mean_slider, noise_covariance_slider, window_size_slider, filter_select, coef_slider]:\n",
    "    slider.on_change('value', update_plot)\n",
    "\n",
    "show_noise_checkbox.on_change('active', update_plot)\n",
    "\n",
    "\n",
    "\n",
    "layout = column(amplitude_slider, frequency_slider, phase_slider, noise_mean_slider, noise_covariance_slider, filter_select,\n",
    "                  window_size_slider, coef_slider, reset_button, p, show_noise_checkbox)\n",
    "\n",
    "curdoc().add_root(row(plot1, plot2, layout))\n",
    "curdoc().title = \"Sliders\"\n",
    "\n",
    "```"
   ]
  },
  {
   "cell_type": "markdown",
   "metadata": {},
   "source": [
    "Реалізуйте ваш власний фільтр, використовуючи виключно Python (а також numpy, але\n",
    "виключно для операцій з масивами numpy.ndarray). Застосуйте фільтр"
   ]
  },
  {
   "cell_type": "markdown",
   "metadata": {},
   "source": [
    "```python\n",
    "def apply_filter(signal, filter_type, window_size, coef):\n",
    "    if filter_type == 'Exponential Weighted Moving Average':\n",
    "        ewma_values = [signal[0]]\n",
    "        alpha = coef\n",
    "        for i in range(1, len(signal)):\n",
    "            next_ewma = alpha * signal[i] + (1 - alpha) * ewma_values[-1]\n",
    "            ewma_values.append(next_ewma)\n",
    "        return np.array(ewma_values)\n",
    "            \n",
    "    elif filter_type == 'Simple Moving Average':\n",
    "        return np.convolve(signal, np.ones(window_size)/window_size, mode='same')\n",
    "\n",
    "```"
   ]
  }
 ],
 "metadata": {
  "kernelspec": {
   "display_name": "Python 3.10.7 64-bit",
   "language": "python",
   "name": "python3"
  },
  "language_info": {
   "name": "python",
   "version": "3.10.7"
  },
  "orig_nbformat": 4,
  "vscode": {
   "interpreter": {
    "hash": "1cc3ae6da35932c9468166d16067be557d0e6799f22486ced3693d2974308d9a"
   }
  }
 },
 "nbformat": 4,
 "nbformat_minor": 2
}
